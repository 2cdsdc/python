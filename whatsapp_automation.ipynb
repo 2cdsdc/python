{
  "cells": [
    {
      "cell_type": "markdown",
      "metadata": {
        "id": "view-in-github",
        "colab_type": "text"
      },
      "source": [
        "<a href=\"https://colab.research.google.com/github/2cdsdc/python/blob/main/whatsapp_automation.ipynb\" target=\"_parent\"><img src=\"https://colab.research.google.com/assets/colab-badge.svg\" alt=\"Open In Colab\"/></a>"
      ]
    },
    {
      "cell_type": "code",
      "execution_count": 1,
      "id": "aa8a1d9e-b3dd-4242-8428-d02513e54676",
      "metadata": {
        "colab": {
          "base_uri": "https://localhost:8080/",
          "height": 109
        },
        "id": "aa8a1d9e-b3dd-4242-8428-d02513e54676",
        "outputId": "dcb1925c-0a72-4005-bcfb-6443097453f0"
      },
      "outputs": [
        {
          "output_type": "error",
          "ename": "SyntaxError",
          "evalue": "invalid syntax (<ipython-input-1-6977190b760c>, line 1)",
          "traceback": [
            "\u001b[0;36m  File \u001b[0;32m\"<ipython-input-1-6977190b760c>\"\u001b[0;36m, line \u001b[0;32m1\u001b[0m\n\u001b[0;31m    pip install pywhatkit\u001b[0m\n\u001b[0m        ^\u001b[0m\n\u001b[0;31mSyntaxError\u001b[0m\u001b[0;31m:\u001b[0m invalid syntax\n"
          ]
        }
      ],
      "source": [
        "pip install pywhatkit\n",
        "\n"
      ]
    },
    {
      "cell_type": "code",
      "execution_count": null,
      "id": "66b61474-c57c-45bb-a199-28066a078b9e",
      "metadata": {
        "id": "66b61474-c57c-45bb-a199-28066a078b9e"
      },
      "outputs": [],
      "source": [
        "import pywhatkit as pw\n",
        "pw.sendwhatmsg('+917895356316', ' welcome to python series', 12, 53)"
      ]
    },
    {
      "cell_type": "code",
      "execution_count": null,
      "id": "45e63249-abb4-41b1-b8ba-b4082d275f30",
      "metadata": {
        "id": "45e63249-abb4-41b1-b8ba-b4082d275f30"
      },
      "outputs": [],
      "source": []
    },
    {
      "cell_type": "code",
      "execution_count": null,
      "id": "a8aff159-683a-46d2-8867-bae7acb9d49c",
      "metadata": {
        "id": "a8aff159-683a-46d2-8867-bae7acb9d49c"
      },
      "outputs": [],
      "source": []
    }
  ],
  "metadata": {
    "kernelspec": {
      "display_name": "Python 3 (ipykernel)",
      "language": "python",
      "name": "python3"
    },
    "language_info": {
      "codemirror_mode": {
        "name": "ipython",
        "version": 3
      },
      "file_extension": ".py",
      "mimetype": "text/x-python",
      "name": "python",
      "nbconvert_exporter": "python",
      "pygments_lexer": "ipython3",
      "version": "3.12.4"
    },
    "colab": {
      "provenance": [],
      "include_colab_link": true
    }
  },
  "nbformat": 4,
  "nbformat_minor": 5
}