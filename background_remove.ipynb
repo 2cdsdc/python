{
  "cells": [
    {
      "cell_type": "markdown",
      "metadata": {
        "id": "view-in-github",
        "colab_type": "text"
      },
      "source": [
        "<a href=\"https://colab.research.google.com/github/2cdsdc/python/blob/main/background_remove.ipynb\" target=\"_parent\"><img src=\"https://colab.research.google.com/assets/colab-badge.svg\" alt=\"Open In Colab\"/></a>"
      ]
    },
    {
      "cell_type": "code",
      "execution_count": null,
      "id": "83a092e7-6430-4ada-8017-ca0a0e8e797d",
      "metadata": {
        "id": "83a092e7-6430-4ada-8017-ca0a0e8e797d",
        "outputId": "212e893b-31da-456e-8fbc-f45e4bb42c02"
      },
      "outputs": [
        {
          "name": "stdout",
          "output_type": "stream",
          "text": [
            "Requirement already satisfied: rembg in c:\\users\\sanket kumar\\anaconda3\\lib\\site-packages (2.0.58)\n",
            "Requirement already satisfied: pillow in c:\\users\\sanket kumar\\anaconda3\\lib\\site-packages (10.3.0)\n",
            "Requirement already satisfied: jsonschema in c:\\users\\sanket kumar\\anaconda3\\lib\\site-packages (from rembg) (4.19.2)\n",
            "Requirement already satisfied: numpy in c:\\users\\sanket kumar\\anaconda3\\lib\\site-packages (from rembg) (1.26.4)\n",
            "Requirement already satisfied: onnxruntime in c:\\users\\sanket kumar\\anaconda3\\lib\\site-packages (from rembg) (1.18.1)\n",
            "Requirement already satisfied: opencv-python-headless in c:\\users\\sanket kumar\\anaconda3\\lib\\site-packages (from rembg) (4.10.0.84)\n",
            "Requirement already satisfied: pooch in c:\\users\\sanket kumar\\anaconda3\\lib\\site-packages (from rembg) (1.8.2)\n",
            "Requirement already satisfied: pymatting in c:\\users\\sanket kumar\\anaconda3\\lib\\site-packages (from rembg) (1.1.12)\n",
            "Requirement already satisfied: scikit-image in c:\\users\\sanket kumar\\anaconda3\\lib\\site-packages (from rembg) (0.23.2)\n",
            "Requirement already satisfied: scipy in c:\\users\\sanket kumar\\anaconda3\\lib\\site-packages (from rembg) (1.13.1)\n",
            "Requirement already satisfied: tqdm in c:\\users\\sanket kumar\\anaconda3\\lib\\site-packages (from rembg) (4.66.4)\n",
            "Requirement already satisfied: attrs>=22.2.0 in c:\\users\\sanket kumar\\anaconda3\\lib\\site-packages (from jsonschema->rembg) (23.1.0)\n",
            "Requirement already satisfied: jsonschema-specifications>=2023.03.6 in c:\\users\\sanket kumar\\anaconda3\\lib\\site-packages (from jsonschema->rembg) (2023.7.1)\n",
            "Requirement already satisfied: referencing>=0.28.4 in c:\\users\\sanket kumar\\anaconda3\\lib\\site-packages (from jsonschema->rembg) (0.30.2)\n",
            "Requirement already satisfied: rpds-py>=0.7.1 in c:\\users\\sanket kumar\\anaconda3\\lib\\site-packages (from jsonschema->rembg) (0.10.6)\n",
            "Requirement already satisfied: coloredlogs in c:\\users\\sanket kumar\\anaconda3\\lib\\site-packages (from onnxruntime->rembg) (15.0.1)\n",
            "Requirement already satisfied: flatbuffers in c:\\users\\sanket kumar\\anaconda3\\lib\\site-packages (from onnxruntime->rembg) (24.3.25)\n",
            "Requirement already satisfied: packaging in c:\\users\\sanket kumar\\anaconda3\\lib\\site-packages (from onnxruntime->rembg) (23.2)\n",
            "Requirement already satisfied: protobuf in c:\\users\\sanket kumar\\anaconda3\\lib\\site-packages (from onnxruntime->rembg) (3.20.3)\n",
            "Requirement already satisfied: sympy in c:\\users\\sanket kumar\\anaconda3\\lib\\site-packages (from onnxruntime->rembg) (1.12)\n",
            "Requirement already satisfied: platformdirs>=2.5.0 in c:\\users\\sanket kumar\\anaconda3\\lib\\site-packages (from pooch->rembg) (3.10.0)\n",
            "Requirement already satisfied: requests>=2.19.0 in c:\\users\\sanket kumar\\anaconda3\\lib\\site-packages (from pooch->rembg) (2.32.2)\n",
            "Requirement already satisfied: numba!=0.49.0 in c:\\users\\sanket kumar\\anaconda3\\lib\\site-packages (from pymatting->rembg) (0.59.1)\n",
            "Requirement already satisfied: networkx>=2.8 in c:\\users\\sanket kumar\\anaconda3\\lib\\site-packages (from scikit-image->rembg) (3.2.1)\n",
            "Requirement already satisfied: imageio>=2.33 in c:\\users\\sanket kumar\\anaconda3\\lib\\site-packages (from scikit-image->rembg) (2.33.1)\n",
            "Requirement already satisfied: tifffile>=2022.8.12 in c:\\users\\sanket kumar\\anaconda3\\lib\\site-packages (from scikit-image->rembg) (2023.4.12)\n",
            "Requirement already satisfied: lazy-loader>=0.4 in c:\\users\\sanket kumar\\anaconda3\\lib\\site-packages (from scikit-image->rembg) (0.4)\n",
            "Requirement already satisfied: colorama in c:\\users\\sanket kumar\\anaconda3\\lib\\site-packages (from tqdm->rembg) (0.4.6)\n",
            "Requirement already satisfied: llvmlite<0.43,>=0.42.0dev0 in c:\\users\\sanket kumar\\anaconda3\\lib\\site-packages (from numba!=0.49.0->pymatting->rembg) (0.42.0)\n",
            "Requirement already satisfied: charset-normalizer<4,>=2 in c:\\users\\sanket kumar\\anaconda3\\lib\\site-packages (from requests>=2.19.0->pooch->rembg) (2.0.4)\n",
            "Requirement already satisfied: idna<4,>=2.5 in c:\\users\\sanket kumar\\anaconda3\\lib\\site-packages (from requests>=2.19.0->pooch->rembg) (3.7)\n",
            "Requirement already satisfied: urllib3<3,>=1.21.1 in c:\\users\\sanket kumar\\anaconda3\\lib\\site-packages (from requests>=2.19.0->pooch->rembg) (2.2.2)\n",
            "Requirement already satisfied: certifi>=2017.4.17 in c:\\users\\sanket kumar\\anaconda3\\lib\\site-packages (from requests>=2.19.0->pooch->rembg) (2024.7.4)\n",
            "Requirement already satisfied: humanfriendly>=9.1 in c:\\users\\sanket kumar\\anaconda3\\lib\\site-packages (from coloredlogs->onnxruntime->rembg) (10.0)\n",
            "Requirement already satisfied: mpmath>=0.19 in c:\\users\\sanket kumar\\anaconda3\\lib\\site-packages (from sympy->onnxruntime->rembg) (1.3.0)\n",
            "Requirement already satisfied: pyreadline3 in c:\\users\\sanket kumar\\anaconda3\\lib\\site-packages (from humanfriendly>=9.1->coloredlogs->onnxruntime->rembg) (3.4.1)\n",
            "Note: you may need to restart the kernel to use updated packages.\n"
          ]
        }
      ],
      "source": [
        "pip install rembg pillow"
      ]
    },
    {
      "cell_type": "code",
      "execution_count": null,
      "id": "f422882c-736d-4efe-a28d-18af3bb18fe6",
      "metadata": {
        "id": "f422882c-736d-4efe-a28d-18af3bb18fe6"
      },
      "outputs": [],
      "source": [
        "from rembg import remove\n",
        "from PIL import Image\n",
        "\n",
        "\n",
        "input_path = \"f.webp\"\n",
        "output_path = \"777.webp\"\n",
        "\n",
        "\n",
        "\n",
        "\n",
        "\n",
        "input = Image.open(input_path)\n",
        "output = remove(input)\n",
        "output.save(output_path)\n",
        "\n",
        "\n",
        "\n",
        "\n",
        "\n"
      ]
    },
    {
      "cell_type": "code",
      "execution_count": null,
      "id": "fe6f42a7-9298-495f-874d-3d1955eaa677",
      "metadata": {
        "id": "fe6f42a7-9298-495f-874d-3d1955eaa677"
      },
      "outputs": [],
      "source": []
    },
    {
      "cell_type": "code",
      "execution_count": null,
      "id": "46e3fb3d-a10a-4a28-bc54-a77d2292d832",
      "metadata": {
        "id": "46e3fb3d-a10a-4a28-bc54-a77d2292d832"
      },
      "outputs": [],
      "source": []
    }
  ],
  "metadata": {
    "kernelspec": {
      "display_name": "Python 3 (ipykernel)",
      "language": "python",
      "name": "python3"
    },
    "language_info": {
      "codemirror_mode": {
        "name": "ipython",
        "version": 3
      },
      "file_extension": ".py",
      "mimetype": "text/x-python",
      "name": "python",
      "nbconvert_exporter": "python",
      "pygments_lexer": "ipython3",
      "version": "3.12.4"
    },
    "colab": {
      "provenance": [],
      "include_colab_link": true
    }
  },
  "nbformat": 4,
  "nbformat_minor": 5
}